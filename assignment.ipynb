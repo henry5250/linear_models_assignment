{
  "cells": [
    {
      "cell_type": "markdown",
      "id": "e0c7b14a-e5aa-4abc-b48b-b8a9d20dacac",
      "metadata": {
        "id": "e0c7b14a-e5aa-4abc-b48b-b8a9d20dacac"
      },
      "source": [
        "# Assignment: Linear Models\n",
        "## Do two questions in total: \"Q1+Q2\" or \"Q1+Q3\"\n",
        "### `! git clone https://github.com/ds3001f25/linear_models_assignment.git`"
      ]
    },
    {
      "cell_type": "markdown",
      "id": "ca1cfba3",
      "metadata": {
        "vscode": {
          "languageId": "plaintext"
        },
        "id": "ca1cfba3"
      },
      "source": [
        "**Q1.** Let's explore multiple linear regression in a two-variable case, to build more intuition about what is happening.\n",
        "\n",
        "Suppose the model is\n",
        "$$\n",
        "\\hat{y}_i = b_0 + b_1 z_{i1} + b_2 z_{i2}\n",
        "$$\n",
        "Assume that $z_{ij}$ is centered or de-meaned, so that $z_{ij} = x_{ij} - m_j$ where $m_j$ is the mean of variable $j$ and $x_{ij}$ is the original value of variable $j$ for observation $i$. Notice that this implies\n",
        "$$\n",
        "\\dfrac{1}{N} \\sum_{i=1}^N z_{ij} = 0\n",
        "$$\n",
        "which will simplify your calculations below substantially!\n",
        "\n",
        "1. Write down the SSE for this model.\n",
        "2. Take partial derivatives with respect to $b_0$, $b_1$, and $b_2$.\n",
        "3. Verify that the average error is zero and $e \\cdot z =0$ at the optimum, just as in the single linear regression case.\n",
        "4. Show that the optimal intercept is $b_0^* = \\bar{y}$. Eliminate $b_0^*$ from the remaining equations, and focus on $b_1$ and $b_2$.\n",
        "5. Write your results as a matrix equation in the form \"$Ab=C$\". These are called the **normal equations**.\n",
        "6. Divide both sides by $N$ and substitute $z_{ij} = x_{ij} - m_j$ back into your normal equations for $x_{ij}$. What is the matrix $A$? What is the vector $C$? Explain the intuition of your discovery."
      ]
    },
    {
      "cell_type": "code",
      "execution_count": null,
      "id": "b005058d",
      "metadata": {
        "id": "b005058d"
      },
      "outputs": [],
      "source": []
    },
    {
      "cell_type": "markdown",
      "id": "95f22300-0180-4ed2-be8f-ed56cf4cd36b",
      "metadata": {
        "id": "95f22300-0180-4ed2-be8f-ed56cf4cd36b"
      },
      "source": [
        "**Q2.** This question is a case study for linear models. The data are about car prices. In particular, they include:\n",
        "\n",
        "  - `Price`, `Color`, `Seating_Capacity`\n",
        "  - `Body_Type`: crossover, hatchback, muv, sedan, suv\n",
        "  - `Make`, `Make_Year`: The brand of car and year produced\n",
        "  - `Mileage_Run`: The number of miles on the odometer\n",
        "  - `Fuel_Type`: Diesel or gasoline/petrol\n",
        "  - `Transmission`, `Transmission_Type`:  speeds and automatic/manual\n",
        "\n",
        "  1. Load `cars_hw.csv`. These data were really dirty, and I've already cleaned them a significant amount in terms of missing values and other issues, but some issues remain (e.g. outliers, badly scaled variables that require a log or arcsinh transformation). Clean the data however you think is most appropriate.\n",
        "  2. Summarize the `Price` variable and create a kernel density plot. Use `.groupby()` and `.describe()` to summarize prices by brand (`Make`). Make a grouped kernel density plot by `Make`. Which car brands are the most expensive? What do prices look like in general?\n",
        "  3. Split the data into an 80% training set and a 20% testing set.\n",
        "  4. Make a model where you regress price on the numeric variables alone; what is the $R^2$ and `RMSE` on the training set and test set? Make a second model where, for the categorical variables, you regress price on a model comprised of one-hot encoded regressors/features alone (you can use `pd.get_dummies()`; be careful of the dummy variable trap); what is the $R^2$ and `RMSE` on the test set? Which model performs better on the test set? Make a third model that combines all the regressors from the previous two; what is the $R^2$ and `RMSE` on the test set? Does the joint model perform better or worse, and by home much?\n",
        "  5. Use the `PolynomialFeatures` function from `sklearn` to expand the set of numerical variables you're using in the regression. As you increase the degree of the expansion, how do the $R^2$ and `RMSE` change? At what point does $R^2$ go negative on the test set? For your best model with expanded features, what is the $R^2$ and `RMSE`? How does it compare to your best model from part 4?\n",
        "  6. For your best model so far, determine the predicted values for the test data and plot them against the true values. Do the predicted values and true values roughly line up along the diagonal, or not? Compute the residuals/errors for the test data and create a kernel density plot. Do the residuals look roughly bell-shaped around zero? Evaluate the strengths and weaknesses of your model."
      ]
    },
    {
      "cell_type": "code",
      "execution_count": null,
      "id": "0acc2b86",
      "metadata": {
        "id": "0acc2b86"
      },
      "outputs": [],
      "source": []
    },
    {
      "cell_type": "markdown",
      "id": "aedcd486",
      "metadata": {
        "id": "aedcd486"
      },
      "source": [
        "**Q3.** This question refers to the `heart_hw.csv` data. It contains three variables:\n",
        "\n",
        "  - `y`: Whether the individual survived for three years, coded 0 for death and 1 for survival\n",
        "  - `age`: Patient's age\n",
        "  - `transplant`: `control` for not receiving a transplant and `treatment` for receiving a transplant\n",
        "\n",
        "Since a heart transplant is a dangerous operation and even people who successfully get heart transplants might suffer later complications, we want to look at whether a group of transplant recipients tends to survive longer than a comparison group who does not get the procedure.\n",
        "\n",
        "1. Compute (a) the proportion of people who survive in the control group who do not receive a transplant, and (b) the difference between the proportion of people who survive in the treatment group and the proportion of people who survive in the control group. In a randomized controlled trial, this is called the **average treatment effect**.\n",
        "2. Regress `y` on `transplant` using a linear model with a constant. How does the constant/intercept of the regression and the coefficient on transplant compare to your answers from part 1? Explain the relationship clearly.\n",
        "3. We'd like to include `age` in the regression, since it's reasonable to expect that older patients are less likely to survive an extensive surgery like a heart transplant. Regress `y` on a constant, transplant, and age. How does the intercept change?\n",
        "4. Build a more flexible model that allows for non-linear age effects and interactions between age and treatment. Use a train-test split to validate your model. Estimate your best model, predict the survival probability by age, and plot your results conditional on receiving a transplant and not. Describe what you see.\n",
        "5. Imagine someone suggests using these kinds of models to select who receives organ transplants; perhaps the CDC or NIH starts using a scoring algorithm to decide who is contacted about a potential organ. What are your concerns about how it is built and how it is deployed?"
      ]
    },
    {
      "cell_type": "code",
      "execution_count": 15,
      "id": "d9b3a79a",
      "metadata": {
        "colab": {
          "base_uri": "https://localhost:8080/"
        },
        "id": "d9b3a79a",
        "outputId": "1bcfb7ce-3cb9-4c5d-e313-e85327910183"
      },
      "outputs": [
        {
          "output_type": "stream",
          "name": "stdout",
          "text": [
            "Proportion of survivors in the control group: 0.1176\n",
            "Proportion of survivors in the treatment group: 0.3478\n",
            "Average treatment effect: 0.2302\n"
          ]
        }
      ],
      "source": [
        "#computing the proportion of people who survive in the control group\n",
        "control_survival_proportion = df[df['transplant'] == 'control']['y'].mean()\n",
        "print(f\"proportion of suvivors control group: {control_survival_proportion:.4f}\")\n",
        "\n",
        "#computing the proportion of people who survive in the treatment group\n",
        "treatment_survival_proportion = df[df['transplant'] == 'treatment']['y'].mean()\n",
        "print(f\"proportion of survivors treatment group: {treatment_survival_proportion:.4f}\")\n",
        "\n",
        "#difference between the proportion of people who survive in the treatment group and the proportion of people who survive in the control group (Average Treatment Effect)\n",
        "average_treatment_effect = treatment_survival_proportion - control_survival_proportion\n",
        "print(f\"average treatment effect: {average_treatment_effect:.4f}\")"
      ]
    },
    {
      "cell_type": "code",
      "metadata": {
        "colab": {
          "base_uri": "https://localhost:8080/"
        },
        "id": "7b123307",
        "outputId": "d033f590-9e01-405b-b42b-8e061113239e"
      },
      "source": [
        "import statsmodels.formula.api as smf\n",
        "\n",
        "#regress y on transplant with a constant\n",
        "model1 = smf.ols(formula='y ~ transplant', data=df).fit()\n",
        "\n",
        "#print the model summary\n",
        "print(model1.summary())\n",
        "\n",
        "#the intercept is equal to the proportion of survivors in the control group, this is because in simple linear repression the intercept represents the mean of the dependent variable"
      ],
      "id": "7b123307",
      "execution_count": 16,
      "outputs": [
        {
          "output_type": "stream",
          "name": "stdout",
          "text": [
            "                            OLS Regression Results                            \n",
            "==============================================================================\n",
            "Dep. Variable:                      y   R-squared:                       0.059\n",
            "Model:                            OLS   Adj. R-squared:                  0.050\n",
            "Method:                 Least Squares   F-statistic:                     6.354\n",
            "Date:                Tue, 07 Oct 2025   Prob (F-statistic):             0.0133\n",
            "Time:                        01:52:13   Log-Likelihood:                -59.591\n",
            "No. Observations:                 103   AIC:                             123.2\n",
            "Df Residuals:                     101   BIC:                             128.5\n",
            "Df Model:                           1                                         \n",
            "Covariance Type:            nonrobust                                         \n",
            "===========================================================================================\n",
            "                              coef    std err          t      P>|t|      [0.025      0.975]\n",
            "-------------------------------------------------------------------------------------------\n",
            "Intercept                   0.1176      0.075      1.574      0.119      -0.031       0.266\n",
            "transplant[T.treatment]     0.2302      0.091      2.521      0.013       0.049       0.411\n",
            "==============================================================================\n",
            "Omnibus:                       22.540   Durbin-Watson:                   1.416\n",
            "Prob(Omnibus):                  0.000   Jarque-Bera (JB):               17.584\n",
            "Skew:                           0.902   Prob(JB):                     0.000152\n",
            "Kurtosis:                       2.080   Cond. No.                         3.24\n",
            "==============================================================================\n",
            "\n",
            "Notes:\n",
            "[1] Standard Errors assume that the covariance matrix of the errors is correctly specified.\n"
          ]
        }
      ]
    },
    {
      "cell_type": "code",
      "metadata": {
        "colab": {
          "base_uri": "https://localhost:8080/"
        },
        "id": "a7bfceb7",
        "outputId": "1de47ca4-ef96-4d62-99ad-a4b3b412925e"
      },
      "source": [
        "import statsmodels.formula.api as smf\n",
        "\n",
        "#regress y on a constant, transplant, and age\n",
        "model2 = smf.ols(formula='y ~ transplant + age', data=df).fit()\n",
        "\n",
        "#print the model summary\n",
        "print(model2.summary())\n",
        "\n",
        "#the intercept changes because i addded age to the model which makes the y axis zero years of age... so it is the estimated mean survival age for someone hypotehtically getting a transplant at the age of zero"
      ],
      "id": "a7bfceb7",
      "execution_count": 17,
      "outputs": [
        {
          "output_type": "stream",
          "name": "stdout",
          "text": [
            "                            OLS Regression Results                            \n",
            "==============================================================================\n",
            "Dep. Variable:                      y   R-squared:                       0.147\n",
            "Model:                            OLS   Adj. R-squared:                  0.130\n",
            "Method:                 Least Squares   F-statistic:                     8.602\n",
            "Date:                Tue, 07 Oct 2025   Prob (F-statistic):           0.000357\n",
            "Time:                        01:52:43   Log-Likelihood:                -54.558\n",
            "No. Observations:                 103   AIC:                             115.1\n",
            "Df Residuals:                     100   BIC:                             123.0\n",
            "Df Model:                           2                                         \n",
            "Covariance Type:            nonrobust                                         \n",
            "===========================================================================================\n",
            "                              coef    std err          t      P>|t|      [0.025      0.975]\n",
            "-------------------------------------------------------------------------------------------\n",
            "Intercept                   0.7020      0.196      3.583      0.001       0.313       1.091\n",
            "transplant[T.treatment]     0.2647      0.088      3.006      0.003       0.090       0.439\n",
            "age                        -0.0136      0.004     -3.204      0.002      -0.022      -0.005\n",
            "==============================================================================\n",
            "Omnibus:                       14.464   Durbin-Watson:                   1.370\n",
            "Prob(Omnibus):                  0.001   Jarque-Bera (JB):               12.288\n",
            "Skew:                           0.753   Prob(JB):                      0.00215\n",
            "Kurtosis:                       2.227   Cond. No.                         219.\n",
            "==============================================================================\n",
            "\n",
            "Notes:\n",
            "[1] Standard Errors assume that the covariance matrix of the errors is correctly specified.\n"
          ]
        }
      ]
    }
  ],
  "metadata": {
    "colab": {
      "provenance": []
    },
    "kernelspec": {
      "display_name": "Python 3 (ipykernel)",
      "language": "python",
      "name": "python3"
    },
    "language_info": {
      "codemirror_mode": {
        "name": "ipython",
        "version": 3
      },
      "file_extension": ".py",
      "mimetype": "text/x-python",
      "name": "python",
      "nbconvert_exporter": "python",
      "pygments_lexer": "ipython3",
      "version": "3.10.18"
    }
  },
  "nbformat": 4,
  "nbformat_minor": 5
}